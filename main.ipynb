{
 "cells": [
  {
   "cell_type": "code",
   "execution_count": 3,
   "id": "c0578bba",
   "metadata": {},
   "outputs": [],
   "source": [
    "import pandas as pd\n",
    "import numpy as np\n",
    "from matplotlib import pyplot as plt"
   ]
  },
  {
   "cell_type": "code",
   "execution_count": 4,
   "id": "2b783a38",
   "metadata": {},
   "outputs": [],
   "source": [
    "df = pd.read_csv('log.csv')"
   ]
  },
  {
   "cell_type": "code",
   "execution_count": 5,
   "id": "71d4ee02",
   "metadata": {},
   "outputs": [
    {
     "data": {
      "text/html": [
       "<div>\n",
       "<style scoped>\n",
       "    .dataframe tbody tr th:only-of-type {\n",
       "        vertical-align: middle;\n",
       "    }\n",
       "\n",
       "    .dataframe tbody tr th {\n",
       "        vertical-align: top;\n",
       "    }\n",
       "\n",
       "    .dataframe thead th {\n",
       "        text-align: right;\n",
       "    }\n",
       "</style>\n",
       "<table border=\"1\" class=\"dataframe\">\n",
       "  <thead>\n",
       "    <tr style=\"text-align: right;\">\n",
       "      <th></th>\n",
       "      <th>Date</th>\n",
       "      <th>Activity</th>\n",
       "      <th>Duration</th>\n",
       "      <th>Calories</th>\n",
       "      <th>Steps</th>\n",
       "      <th>Notes</th>\n",
       "    </tr>\n",
       "  </thead>\n",
       "  <tbody>\n",
       "    <tr>\n",
       "      <th>0</th>\n",
       "      <td>2025-08-19</td>\n",
       "      <td>Walking</td>\n",
       "      <td>25</td>\n",
       "      <td>120</td>\n",
       "      <td>3500</td>\n",
       "      <td>Morning stroll</td>\n",
       "    </tr>\n",
       "    <tr>\n",
       "      <th>1</th>\n",
       "      <td>2025-08-19</td>\n",
       "      <td>Gym</td>\n",
       "      <td>40</td>\n",
       "      <td>250</td>\n",
       "      <td>4000</td>\n",
       "      <td>Weight lifting</td>\n",
       "    </tr>\n",
       "    <tr>\n",
       "      <th>2</th>\n",
       "      <td>2025-08-20</td>\n",
       "      <td>Running</td>\n",
       "      <td>30</td>\n",
       "      <td>220</td>\n",
       "      <td>4500</td>\n",
       "      <td>Easy jog</td>\n",
       "    </tr>\n",
       "    <tr>\n",
       "      <th>3</th>\n",
       "      <td>2025-08-21</td>\n",
       "      <td>Walking</td>\n",
       "      <td>20</td>\n",
       "      <td>100</td>\n",
       "      <td>3000</td>\n",
       "      <td>Park walk</td>\n",
       "    </tr>\n",
       "    <tr>\n",
       "      <th>4</th>\n",
       "      <td>2025-08-22</td>\n",
       "      <td>Running</td>\n",
       "      <td>35</td>\n",
       "      <td>260</td>\n",
       "      <td>5000</td>\n",
       "      <td>Interval training</td>\n",
       "    </tr>\n",
       "  </tbody>\n",
       "</table>\n",
       "</div>"
      ],
      "text/plain": [
       "         Date Activity  Duration  Calories  Steps              Notes\n",
       "0  2025-08-19  Walking        25       120   3500     Morning stroll\n",
       "1  2025-08-19      Gym        40       250   4000     Weight lifting\n",
       "2  2025-08-20  Running        30       220   4500           Easy jog\n",
       "3  2025-08-21  Walking        20       100   3000          Park walk\n",
       "4  2025-08-22  Running        35       260   5000  Interval training"
      ]
     },
     "execution_count": 5,
     "metadata": {},
     "output_type": "execute_result"
    }
   ],
   "source": [
    "df.head(5)"
   ]
  },
  {
   "cell_type": "code",
   "execution_count": 6,
   "id": "cb644a12",
   "metadata": {},
   "outputs": [
    {
     "name": "stdout",
     "output_type": "stream",
     "text": [
      "<class 'pandas.core.frame.DataFrame'>\n",
      "RangeIndex: 10 entries, 0 to 9\n",
      "Data columns (total 6 columns):\n",
      " #   Column    Non-Null Count  Dtype \n",
      "---  ------    --------------  ----- \n",
      " 0   Date      10 non-null     object\n",
      " 1   Activity  10 non-null     object\n",
      " 2   Duration  10 non-null     int64 \n",
      " 3   Calories  10 non-null     int64 \n",
      " 4   Steps     10 non-null     int64 \n",
      " 5   Notes     10 non-null     object\n",
      "dtypes: int64(3), object(3)\n",
      "memory usage: 612.0+ bytes\n"
     ]
    }
   ],
   "source": [
    "df.info()"
   ]
  },
  {
   "cell_type": "code",
   "execution_count": 7,
   "id": "d282b8a8",
   "metadata": {},
   "outputs": [
    {
     "data": {
      "text/html": [
       "<div>\n",
       "<style scoped>\n",
       "    .dataframe tbody tr th:only-of-type {\n",
       "        vertical-align: middle;\n",
       "    }\n",
       "\n",
       "    .dataframe tbody tr th {\n",
       "        vertical-align: top;\n",
       "    }\n",
       "\n",
       "    .dataframe thead th {\n",
       "        text-align: right;\n",
       "    }\n",
       "</style>\n",
       "<table border=\"1\" class=\"dataframe\">\n",
       "  <thead>\n",
       "    <tr style=\"text-align: right;\">\n",
       "      <th></th>\n",
       "      <th>Date</th>\n",
       "      <th>Activity</th>\n",
       "      <th>Duration</th>\n",
       "      <th>Calories</th>\n",
       "      <th>Steps</th>\n",
       "      <th>Notes</th>\n",
       "    </tr>\n",
       "  </thead>\n",
       "  <tbody>\n",
       "    <tr>\n",
       "      <th>0</th>\n",
       "      <td>2025-08-19</td>\n",
       "      <td>Walking</td>\n",
       "      <td>25</td>\n",
       "      <td>120</td>\n",
       "      <td>3500</td>\n",
       "      <td>Morning stroll</td>\n",
       "    </tr>\n",
       "    <tr>\n",
       "      <th>3</th>\n",
       "      <td>2025-08-21</td>\n",
       "      <td>Walking</td>\n",
       "      <td>20</td>\n",
       "      <td>100</td>\n",
       "      <td>3000</td>\n",
       "      <td>Park walk</td>\n",
       "    </tr>\n",
       "    <tr>\n",
       "      <th>6</th>\n",
       "      <td>2025-08-24</td>\n",
       "      <td>Walking</td>\n",
       "      <td>30</td>\n",
       "      <td>150</td>\n",
       "      <td>4000</td>\n",
       "      <td>Evening walk</td>\n",
       "    </tr>\n",
       "    <tr>\n",
       "      <th>9</th>\n",
       "      <td>2025-08-26</td>\n",
       "      <td>Walking</td>\n",
       "      <td>35</td>\n",
       "      <td>170</td>\n",
       "      <td>4500</td>\n",
       "      <td>Night walk</td>\n",
       "    </tr>\n",
       "  </tbody>\n",
       "</table>\n",
       "</div>"
      ],
      "text/plain": [
       "         Date Activity  Duration  Calories  Steps           Notes\n",
       "0  2025-08-19  Walking        25       120   3500  Morning stroll\n",
       "3  2025-08-21  Walking        20       100   3000       Park walk\n",
       "6  2025-08-24  Walking        30       150   4000    Evening walk\n",
       "9  2025-08-26  Walking        35       170   4500      Night walk"
      ]
     },
     "execution_count": 7,
     "metadata": {},
     "output_type": "execute_result"
    }
   ],
   "source": [
    "df[df.Activity == 'Walking']"
   ]
  },
  {
   "cell_type": "code",
   "execution_count": 8,
   "id": "06a9df86",
   "metadata": {},
   "outputs": [
    {
     "data": {
      "image/png": "[encoded data removed]",
      "text/plain": [
       "<Figure size 640x480 with 1 Axes>"
      ]
     },
     "metadata": {},
     "output_type": "display_data"
    }
   ],
   "source": [
    "plt.bar( df.Activity , df.Date, color = 'lightgreen' )\n",
    "#plt.bar(df.Activity, df.Notes, bottom = df.Activity, label='notes')\n",
    "plt.xlabel('ACTIVITY')\n",
    "plt.ylabel('DATE')\n",
    "\n",
    "\n",
    "\n",
    "plt.show()\n"
   ]
  },
  {
   "cell_type": "code",
   "execution_count": 9,
   "id": "4ee843ca",
   "metadata": {},
   "outputs": [
    {
     "data": {
      "image/png": "[encoded data removed]",
      "text/plain": [
       "<Figure size 640x480 with 1 Axes>"
      ]
     },
     "metadata": {},
     "output_type": "display_data"
    }
   ],
   "source": [
    "walking_df = df[df['Activity'] == 'Walking'].copy()\n",
    "\n",
    "plt.bar(walking_df.Date, walking_df.Steps)\n",
    "plt.ylabel('Steps')\n",
    "plt.xlabel('Date')\n",
    "plt.title('Walking Details')\n",
    "\n",
    "\n",
    "plt.show()"
   ]
  },
  {
   "cell_type": "code",
   "execution_count": null,
   "id": "e1017abf",
   "metadata": {},
   "outputs": [],
   "source": []
  },
  {
   "cell_type": "code",
   "execution_count": null,
   "id": "4135dca4",
   "metadata": {},
   "outputs": [],
   "source": []
  },
  {
   "cell_type": "code",
   "execution_count": null,
   "metadata": {},
   "outputs": [],
   "source": []
  },
  {
   "cell_type": "code",
   "execution_count": null,
   "metadata": {},
   "outputs": [],
   "source": []
  },
  {
   "cell_type": "code",
   "execution_count": null,
   "metadata": {},
   "outputs": [],
   "source": []
  },
  {
   "cell_type": "code",
   "execution_count": null,
   "metadata": {},
   "outputs": [],
   "source": []
  }
 ],
 "metadata": {
  "kernelspec": {
   "display_name": "Python 3",
   "language": "python",
   "name": "python3"
  },
  "language_info": {
   "codemirror_mode": {
    "name": "ipython",
    "version": 3
   },
   "file_extension": ".py",
   "mimetype": "text/x-python",
   "name": "python",
   "nbconvert_exporter": "python",
   "pygments_lexer": "ipython3",
   "version": "3.13.4"
  }
 },
 "nbformat": 4,
 "nbformat_minor": 5
}
